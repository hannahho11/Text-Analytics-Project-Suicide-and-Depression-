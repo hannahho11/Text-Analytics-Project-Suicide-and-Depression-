{
 "cells": [
  {
   "cell_type": "markdown",
   "metadata": {},
   "source": [
    "Predict whether posts come from depression or suicide thread"
   ]
  },
  {
   "cell_type": "code",
   "execution_count": 22,
   "metadata": {},
   "outputs": [],
   "source": [
    "import pandas as pd\n",
    "from sklearn.linear_model import LogisticRegression\n",
    "import numpy as np"
   ]
  },
  {
   "cell_type": "code",
   "execution_count": 28,
   "metadata": {},
   "outputs": [],
   "source": [
    "df_suicide_posts = pd.read_csv('suicidewatch_posts.csv')\n",
    "df_depression_posts = pd.read_csv('depression_posts.csv')"
   ]
  },
  {
   "cell_type": "code",
   "execution_count": 29,
   "metadata": {},
   "outputs": [
    {
     "name": "stdout",
     "output_type": "stream",
     "text": [
      "4447\n"
     ]
    },
    {
     "data": {
      "text/html": [
       "<div>\n",
       "<style scoped>\n",
       "    .dataframe tbody tr th:only-of-type {\n",
       "        vertical-align: middle;\n",
       "    }\n",
       "\n",
       "    .dataframe tbody tr th {\n",
       "        vertical-align: top;\n",
       "    }\n",
       "\n",
       "    .dataframe thead th {\n",
       "        text-align: right;\n",
       "    }\n",
       "</style>\n",
       "<table border=\"1\" class=\"dataframe\">\n",
       "  <thead>\n",
       "    <tr style=\"text-align: right;\">\n",
       "      <th></th>\n",
       "      <th>title</th>\n",
       "      <th>score</th>\n",
       "      <th>p_id</th>\n",
       "      <th>subreddit</th>\n",
       "      <th>url</th>\n",
       "      <th>num_comments</th>\n",
       "      <th>body</th>\n",
       "      <th>p_timestamp</th>\n",
       "      <th>c_id</th>\n",
       "      <th>comment</th>\n",
       "      <th>c_timestamp</th>\n",
       "      <th>Post_Reply</th>\n",
       "      <th>Time_to_Comment</th>\n",
       "      <th>Suicide</th>\n",
       "      <th>Depression</th>\n",
       "    </tr>\n",
       "  </thead>\n",
       "  <tbody>\n",
       "    <tr>\n",
       "      <th>0</th>\n",
       "      <td>New wiki on how to avoid accidentally encourag...</td>\n",
       "      <td>596</td>\n",
       "      <td>cz6nfd</td>\n",
       "      <td>SuicideWatch</td>\n",
       "      <td>https://www.reddit.com/r/SuicideWatch/comments...</td>\n",
       "      <td>157</td>\n",
       "      <td>We've been seeing a worrying increase in pro-s...</td>\n",
       "      <td>2019-09-03 18:49:51</td>\n",
       "      <td>eyx1qcc</td>\n",
       "      <td>I'm sorry did you say suicide fetishists? As i...</td>\n",
       "      <td>2019-09-03 23:34:05</td>\n",
       "      <td>Y</td>\n",
       "      <td>0 days 04:44:14.000000000</td>\n",
       "      <td>1</td>\n",
       "      <td>NaN</td>\n",
       "    </tr>\n",
       "  </tbody>\n",
       "</table>\n",
       "</div>"
      ],
      "text/plain": [
       "                                               title  score    p_id  \\\n",
       "0  New wiki on how to avoid accidentally encourag...    596  cz6nfd   \n",
       "\n",
       "      subreddit                                                url  \\\n",
       "0  SuicideWatch  https://www.reddit.com/r/SuicideWatch/comments...   \n",
       "\n",
       "   num_comments                                               body  \\\n",
       "0           157  We've been seeing a worrying increase in pro-s...   \n",
       "\n",
       "           p_timestamp     c_id  \\\n",
       "0  2019-09-03 18:49:51  eyx1qcc   \n",
       "\n",
       "                                             comment          c_timestamp  \\\n",
       "0  I'm sorry did you say suicide fetishists? As i...  2019-09-03 23:34:05   \n",
       "\n",
       "  Post_Reply            Time_to_Comment  Suicide  Depression  \n",
       "0          Y  0 days 04:44:14.000000000        1         NaN  "
      ]
     },
     "execution_count": 29,
     "metadata": {},
     "output_type": "execute_result"
    }
   ],
   "source": [
    "# Create column 'Suicide', intialize with 1\n",
    "df_suicide_posts['Suicide'] = 1\n",
    "df_suicide_posts['Depression'] = np.nan\n",
    "\n",
    "print(len(df_suicide_posts)) # Check\n",
    "df_suicide_posts.head(1) # Check"
   ]
  },
  {
   "cell_type": "code",
   "execution_count": 30,
   "metadata": {},
   "outputs": [
    {
     "name": "stdout",
     "output_type": "stream",
     "text": [
      "4035\n"
     ]
    },
    {
     "data": {
      "text/html": [
       "<div>\n",
       "<style scoped>\n",
       "    .dataframe tbody tr th:only-of-type {\n",
       "        vertical-align: middle;\n",
       "    }\n",
       "\n",
       "    .dataframe tbody tr th {\n",
       "        vertical-align: top;\n",
       "    }\n",
       "\n",
       "    .dataframe thead th {\n",
       "        text-align: right;\n",
       "    }\n",
       "</style>\n",
       "<table border=\"1\" class=\"dataframe\">\n",
       "  <thead>\n",
       "    <tr style=\"text-align: right;\">\n",
       "      <th></th>\n",
       "      <th>title</th>\n",
       "      <th>score</th>\n",
       "      <th>p_id</th>\n",
       "      <th>subreddit</th>\n",
       "      <th>url</th>\n",
       "      <th>num_comments</th>\n",
       "      <th>body</th>\n",
       "      <th>p_timestamp</th>\n",
       "      <th>c_id</th>\n",
       "      <th>comment</th>\n",
       "      <th>c_timestamp</th>\n",
       "      <th>Post_Reply</th>\n",
       "      <th>Time_to_Comment</th>\n",
       "      <th>Suicide</th>\n",
       "      <th>Depression</th>\n",
       "    </tr>\n",
       "  </thead>\n",
       "  <tbody>\n",
       "    <tr>\n",
       "      <th>0</th>\n",
       "      <td>Regular Check-In Post</td>\n",
       "      <td>970</td>\n",
       "      <td>cml6ni</td>\n",
       "      <td>depression</td>\n",
       "      <td>https://www.reddit.com/r/depression/comments/c...</td>\n",
       "      <td>5523</td>\n",
       "      <td>Welcome to /r/depression's check-in post - a p...</td>\n",
       "      <td>2019-08-06 06:12:33</td>\n",
       "      <td>ew4joli</td>\n",
       "      <td>I gave in to my depression and stayed home ins...</td>\n",
       "      <td>2019-08-06 20:21:04</td>\n",
       "      <td>Y</td>\n",
       "      <td>0 days 14:08:31.000000000</td>\n",
       "      <td>NaN</td>\n",
       "      <td>0</td>\n",
       "    </tr>\n",
       "  </tbody>\n",
       "</table>\n",
       "</div>"
      ],
      "text/plain": [
       "                   title  score    p_id   subreddit  \\\n",
       "0  Regular Check-In Post    970  cml6ni  depression   \n",
       "\n",
       "                                                 url  num_comments  \\\n",
       "0  https://www.reddit.com/r/depression/comments/c...          5523   \n",
       "\n",
       "                                                body          p_timestamp  \\\n",
       "0  Welcome to /r/depression's check-in post - a p...  2019-08-06 06:12:33   \n",
       "\n",
       "      c_id                                            comment  \\\n",
       "0  ew4joli  I gave in to my depression and stayed home ins...   \n",
       "\n",
       "           c_timestamp Post_Reply            Time_to_Comment  Suicide  \\\n",
       "0  2019-08-06 20:21:04          Y  0 days 14:08:31.000000000      NaN   \n",
       "\n",
       "   Depression  \n",
       "0           0  "
      ]
     },
     "execution_count": 30,
     "metadata": {},
     "output_type": "execute_result"
    }
   ],
   "source": [
    "# Create column 'Depression', intialize with 0\n",
    "df_depression_posts['Suicide'] = np.nan\n",
    "df_depression_posts['Depression'] = 0\n",
    "\n",
    "print(len(df_depression_posts)) # Check\n",
    "df_depression_posts.head(1) # Check"
   ]
  },
  {
   "cell_type": "code",
   "execution_count": 31,
   "metadata": {},
   "outputs": [
    {
     "name": "stdout",
     "output_type": "stream",
     "text": [
      "8482\n"
     ]
    },
    {
     "data": {
      "text/html": [
       "<div>\n",
       "<style scoped>\n",
       "    .dataframe tbody tr th:only-of-type {\n",
       "        vertical-align: middle;\n",
       "    }\n",
       "\n",
       "    .dataframe tbody tr th {\n",
       "        vertical-align: top;\n",
       "    }\n",
       "\n",
       "    .dataframe thead th {\n",
       "        text-align: right;\n",
       "    }\n",
       "</style>\n",
       "<table border=\"1\" class=\"dataframe\">\n",
       "  <thead>\n",
       "    <tr style=\"text-align: right;\">\n",
       "      <th></th>\n",
       "      <th>title</th>\n",
       "      <th>score</th>\n",
       "      <th>p_id</th>\n",
       "      <th>subreddit</th>\n",
       "      <th>url</th>\n",
       "      <th>num_comments</th>\n",
       "      <th>body</th>\n",
       "      <th>p_timestamp</th>\n",
       "      <th>c_id</th>\n",
       "      <th>comment</th>\n",
       "      <th>c_timestamp</th>\n",
       "      <th>Post_Reply</th>\n",
       "      <th>Time_to_Comment</th>\n",
       "      <th>Suicide</th>\n",
       "      <th>Depression</th>\n",
       "    </tr>\n",
       "  </thead>\n",
       "  <tbody>\n",
       "    <tr>\n",
       "      <th>0</th>\n",
       "      <td>Regular Check-In Post</td>\n",
       "      <td>970</td>\n",
       "      <td>cml6ni</td>\n",
       "      <td>depression</td>\n",
       "      <td>https://www.reddit.com/r/depression/comments/c...</td>\n",
       "      <td>5523</td>\n",
       "      <td>Welcome to /r/depression's check-in post - a p...</td>\n",
       "      <td>2019-08-06 06:12:33</td>\n",
       "      <td>ew4joli</td>\n",
       "      <td>I gave in to my depression and stayed home ins...</td>\n",
       "      <td>2019-08-06 20:21:04</td>\n",
       "      <td>Y</td>\n",
       "      <td>0 days 14:08:31.000000000</td>\n",
       "      <td>NaN</td>\n",
       "      <td>0.0</td>\n",
       "    </tr>\n",
       "  </tbody>\n",
       "</table>\n",
       "</div>"
      ],
      "text/plain": [
       "                   title  score    p_id   subreddit  \\\n",
       "0  Regular Check-In Post    970  cml6ni  depression   \n",
       "\n",
       "                                                 url  num_comments  \\\n",
       "0  https://www.reddit.com/r/depression/comments/c...          5523   \n",
       "\n",
       "                                                body          p_timestamp  \\\n",
       "0  Welcome to /r/depression's check-in post - a p...  2019-08-06 06:12:33   \n",
       "\n",
       "      c_id                                            comment  \\\n",
       "0  ew4joli  I gave in to my depression and stayed home ins...   \n",
       "\n",
       "           c_timestamp Post_Reply            Time_to_Comment  Suicide  \\\n",
       "0  2019-08-06 20:21:04          Y  0 days 14:08:31.000000000      NaN   \n",
       "\n",
       "   Depression  \n",
       "0         0.0  "
      ]
     },
     "execution_count": 31,
     "metadata": {},
     "output_type": "execute_result"
    }
   ],
   "source": [
    "# Merge the two datasets\n",
    "frames = [df_depression_posts, df_suicide_posts]\n",
    "df_merged = pd.concat(frames)\n",
    "\n",
    "print(len(df_merged)) # Check\n",
    "df_merged.head(1) # Check"
   ]
  },
  {
   "cell_type": "code",
   "execution_count": 34,
   "metadata": {},
   "outputs": [
    {
     "data": {
      "text/html": [
       "<div>\n",
       "<style scoped>\n",
       "    .dataframe tbody tr th:only-of-type {\n",
       "        vertical-align: middle;\n",
       "    }\n",
       "\n",
       "    .dataframe tbody tr th {\n",
       "        vertical-align: top;\n",
       "    }\n",
       "\n",
       "    .dataframe thead th {\n",
       "        text-align: right;\n",
       "    }\n",
       "</style>\n",
       "<table border=\"1\" class=\"dataframe\">\n",
       "  <thead>\n",
       "    <tr style=\"text-align: right;\">\n",
       "      <th></th>\n",
       "      <th>title</th>\n",
       "      <th>score</th>\n",
       "      <th>p_id</th>\n",
       "      <th>subreddit</th>\n",
       "      <th>url</th>\n",
       "      <th>num_comments</th>\n",
       "      <th>body</th>\n",
       "      <th>p_timestamp</th>\n",
       "      <th>c_id</th>\n",
       "      <th>comment</th>\n",
       "      <th>c_timestamp</th>\n",
       "      <th>Post_Reply</th>\n",
       "      <th>Time_to_Comment</th>\n",
       "      <th>Suicide</th>\n",
       "      <th>Depression</th>\n",
       "      <th>Target</th>\n",
       "    </tr>\n",
       "  </thead>\n",
       "  <tbody>\n",
       "    <tr>\n",
       "      <th>0</th>\n",
       "      <td>Regular Check-In Post</td>\n",
       "      <td>970</td>\n",
       "      <td>cml6ni</td>\n",
       "      <td>depression</td>\n",
       "      <td>https://www.reddit.com/r/depression/comments/c...</td>\n",
       "      <td>5523</td>\n",
       "      <td>Welcome to /r/depression's check-in post - a p...</td>\n",
       "      <td>2019-08-06 06:12:33</td>\n",
       "      <td>ew4joli</td>\n",
       "      <td>I gave in to my depression and stayed home ins...</td>\n",
       "      <td>2019-08-06 20:21:04</td>\n",
       "      <td>Y</td>\n",
       "      <td>0 days 14:08:31.000000000</td>\n",
       "      <td>NaN</td>\n",
       "      <td>0.0</td>\n",
       "      <td>0.0</td>\n",
       "    </tr>\n",
       "  </tbody>\n",
       "</table>\n",
       "</div>"
      ],
      "text/plain": [
       "                   title  score    p_id   subreddit  \\\n",
       "0  Regular Check-In Post    970  cml6ni  depression   \n",
       "\n",
       "                                                 url  num_comments  \\\n",
       "0  https://www.reddit.com/r/depression/comments/c...          5523   \n",
       "\n",
       "                                                body          p_timestamp  \\\n",
       "0  Welcome to /r/depression's check-in post - a p...  2019-08-06 06:12:33   \n",
       "\n",
       "      c_id                                            comment  \\\n",
       "0  ew4joli  I gave in to my depression and stayed home ins...   \n",
       "\n",
       "           c_timestamp Post_Reply            Time_to_Comment  Suicide  \\\n",
       "0  2019-08-06 20:21:04          Y  0 days 14:08:31.000000000      NaN   \n",
       "\n",
       "   Depression  Target  \n",
       "0         0.0     0.0  "
      ]
     },
     "execution_count": 34,
     "metadata": {},
     "output_type": "execute_result"
    }
   ],
   "source": [
    "# Split into train and test set\n",
    "df_merged['Target'] = df_merged['Suicide'].combine_first(df_merged['Depression'])\n",
    "\n",
    "df_merged['Target'].value_counts() # Check\n",
    "df_merged.head(1)"
   ]
  },
  {
   "cell_type": "code",
   "execution_count": null,
   "metadata": {},
   "outputs": [],
   "source": [
    "# Train and run Logistic Regression model\n",
    "# Create design matrices: see Deepayan Classification 3 Logistic Regression notebook\n",
    "\n",
    "# MSE accuracy"
   ]
  }
 ],
 "metadata": {
  "kernelspec": {
   "display_name": "Python 3",
   "language": "python",
   "name": "python3"
  },
  "language_info": {
   "codemirror_mode": {
    "name": "ipython",
    "version": 3
   },
   "file_extension": ".py",
   "mimetype": "text/x-python",
   "name": "python",
   "nbconvert_exporter": "python",
   "pygments_lexer": "ipython3",
   "version": "3.7.5"
  }
 },
 "nbformat": 4,
 "nbformat_minor": 4
}
